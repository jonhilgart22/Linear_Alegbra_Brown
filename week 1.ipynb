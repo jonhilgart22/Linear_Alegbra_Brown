{
 "cells": [
  {
   "cell_type": "code",
   "execution_count": 11,
   "metadata": {
    "collapsed": false
   },
   "outputs": [
    {
     "name": "stdout",
     "output_type": "stream",
     "text": [
      "[-1, 7]\n",
      "[-1, -1]\n",
      "[-3, 1]\n"
     ]
    }
   ],
   "source": [
    "# Problem 1: For vectors v = [−1, 3] and u = [0, 4], find the vectors v + u, v − u, and 3v − 2u.\n",
    "v = [-1, 3]\n",
    "u = [0, 4]\n",
    "\n",
    "print [v[count]+u[count] for count ,item in enumerate(v)]\n",
    "print [v[count]-u[count] for count ,item in enumerate(v)]\n",
    "print [3*v[count]-2*u[count] for count ,item in enumerate(v)]"
   ]
  },
  {
   "cell_type": "code",
   "execution_count": 19,
   "metadata": {
    "collapsed": false
   },
   "outputs": [
    {
     "name": "stdout",
     "output_type": "stream",
     "text": [
      "[1, 0, 6]\n",
      "[3, -2, 4]\n",
      "[5, -3, 9]\n",
      "[0, 1, 7]\n"
     ]
    }
   ],
   "source": [
    "# Problem 2: Given the vectors v = [2, −1, 5] and u = [−1, 1, 1], find the vectors v + u, v − u, 2v − u,\n",
    "# and v + 2u.\n",
    "\n",
    "v = [2, -1, 5]\n",
    "u = [-1, 1, 1]\n",
    "\n",
    "print [v[count]+u[count] for count ,item in enumerate(v)]\n",
    "print [v[count]-u[count] for count ,item in enumerate(v)]\n",
    "print [2*v[count]-u[count] for count ,item in enumerate(v)]\n",
    "print [v[count]+2*u[count] for count ,item in enumerate(v)]"
   ]
  },
  {
   "cell_type": "code",
   "execution_count": 31,
   "metadata": {
    "collapsed": false
   },
   "outputs": [
    {
     "name": "stdout",
     "output_type": "stream",
     "text": [
      "<type 'instance'>\n"
     ]
    }
   ],
   "source": [
    "# Problem 3: For the vectors v = [0, one, one] and u = [one, one, one] over GF(2), find v+u and v+u+u.\n",
    "\n",
    "from numbers import Number\n",
    "\n",
    "class One:\n",
    "\n",
    "    def __add__(self, other): \n",
    "        return self if other == 0 else 0\n",
    "        __sub__ = __add__\n",
    "    def __mul__(self, other):\n",
    "        if isinstance(other, Number):\n",
    "            return 0 if other == 0 else self\n",
    "        return other\n",
    "    def __div__(self, other):\n",
    "        if other == 0: raise ZeroDivisionError\n",
    "        return self\n",
    "    __truediv__ = __div__\n",
    "    def __rdiv__(self,other): return other\n",
    "    __rtruediv__ = __rdiv__\n",
    "    __radd__ = __add__\n",
    "    __rsub__ = __add__\n",
    "    __rmul__ = __mul__\n",
    "    #hack to ensure not (one < 1e-16) by ensuring not (one < x) for every x\n",
    "    def __lt__(self,other): return False\n",
    "    def __eq__(self, other):\n",
    "        if isinstance(other, self.__class__) or other==0:\n",
    "            return other != 0\n",
    "        else:\n",
    "            raise TypeError\n",
    "    def __hash__(self): return 1\n",
    "    def __str__(self): return 'one'\n",
    "    __repr__ = __str__\n",
    "    def __neg__(self): return self\n",
    "    def __bool__(self): return True\n",
    "    def __format__(self, format_spec): return format(str(self),format_spec)\n",
    "\n",
    "one = One()\n",
    "zero = 0\n",
    "\n",
    "v = [0, one, one]\n",
    "u = [one, one, one] "
   ]
  },
  {
   "cell_type": "code",
   "execution_count": 32,
   "metadata": {
    "collapsed": false
   },
   "outputs": [
    {
     "name": "stdout",
     "output_type": "stream",
     "text": [
      "[one, 0, 0]\n"
     ]
    }
   ],
   "source": [
    "print [v[count]+u[count] for count ,item in enumerate(v)]"
   ]
  },
  {
   "cell_type": "code",
   "execution_count": 33,
   "metadata": {
    "collapsed": false
   },
   "outputs": [
    {
     "name": "stdout",
     "output_type": "stream",
     "text": [
      "[0, one, one]\n"
     ]
    }
   ],
   "source": [
    "#v+u+u\n",
    "print [v[count]+u[count]+u[count] for count ,item in enumerate(v)]"
   ]
  },
  {
   "cell_type": "code",
   "execution_count": 35,
   "metadata": {
    "collapsed": false
   },
   "outputs": [
    {
     "data": {
      "text/plain": [
       "'2: b+c+d+e'"
      ]
     },
     "execution_count": 35,
     "metadata": {},
     "output_type": "execute_result"
    }
   ],
   "source": [
    "# Problem 4: Here are six 7-vectors over GF(2):\n",
    "# a = 1100000 \n",
    "# d = 0001100\n",
    "# b = 0110000 \n",
    "# e = 0000110\n",
    "# c = 0011000\n",
    "# f = 0000011\n",
    "# For each of the following vectors u, find a subset of the above vectors whose sum is u, or report that no\n",
    "# such subset exists. You should be able to do this without the help of a computer.\n",
    "# 1. u = 0010010\n",
    "# 2. u = 0100010\n",
    "\n",
    "\"\"\"1:c+d+e,   \"\"\"\n",
    "\"\"\"2: b+c+d+e\"\"\""
   ]
  },
  {
   "cell_type": "code",
   "execution_count": 36,
   "metadata": {
    "collapsed": false
   },
   "outputs": [
    {
     "data": {
      "text/plain": [
       "'2: b+c+d'"
      ]
     },
     "execution_count": 36,
     "metadata": {},
     "output_type": "execute_result"
    }
   ],
   "source": [
    "# Problem 5: Here are six 7-vectors over GF(2):\n",
    "# a = 1110000 d = 0001110\n",
    "# b = 0111000 e = 0000111\n",
    "# c = 0011100 f = 0000011\n",
    "# For each of the following vectors u, find a subset of the above vectors whose sum is u, or report that no\n",
    "# such subset exists.\n",
    "# 1. u = 0010010\n",
    "# 2. u = 0100010\n",
    "\n",
    "\"\"\"1:c+d, \"\"\"\n",
    "\"\"\"2: b+c+d\"\"\"\n"
   ]
  },
  {
   "cell_type": "code",
   "execution_count": null,
   "metadata": {
    "collapsed": true
   },
   "outputs": [],
   "source": [
    "# Problem 6: (You should be able to solve this problem without using a computer.) Find a vector\n",
    "# x = [x1, x2, x3, x4] over GF(2) satisfying the following linear equations:\n",
    "# 1100 · x = 1\n",
    "# 1010 · x = 1\n",
    "# 1111 · x = 1\n",
    "# Verify for yourself that x + 1111 also satisfies the equations.\n",
    "\n",
    "\"\"\"1: \"\"\""
   ]
  }
 ],
 "metadata": {
  "kernelspec": {
   "display_name": "Python 2",
   "language": "python",
   "name": "python2"
  },
  "language_info": {
   "codemirror_mode": {
    "name": "ipython",
    "version": 2
   },
   "file_extension": ".py",
   "mimetype": "text/x-python",
   "name": "python",
   "nbconvert_exporter": "python",
   "pygments_lexer": "ipython2",
   "version": "2.7.10"
  }
 },
 "nbformat": 4,
 "nbformat_minor": 0
}
