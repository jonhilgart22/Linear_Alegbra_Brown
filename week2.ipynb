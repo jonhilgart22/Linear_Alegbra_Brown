{
 "cells": [
  {
   "cell_type": "code",
   "execution_count": 1,
   "metadata": {
    "collapsed": true
   },
   "outputs": [],
   "source": [
    "# Problem 1:\n",
    "# 1. Write and test a procedure vec select using a comprehension for the following computational problem:\n",
    "# • input: a list veclist of vectors over the same domain, and an element k of the domain\n",
    "# • output: the sublist of veclist consisting of the vectors v in veclist where v[k] is zero\n",
    "# 2. Write and test a procedure vec sum using the built-in procedure sum(·) for the following:\n",
    "# • input: a list veclist of vectors, and a set D that is the common domain of these vectors\n",
    "# • output: the vector sum of the vectors in veclist.\n",
    "# Your procedure must work even if veclist has length 0.\n",
    "# Hint: Recall from the Python Lab that sum(·) optionally takes a second argument, which is the element\n",
    "# to start the sum with. This can be a vector.\n",
    "# Disclaimer: The Vec class is defined in such a way that, for a vector v, the expression 0 + v evaluates\n",
    "# to v. This was done precisely so that sum([v1,v2,... vk]) will correctly evaluate to the sum of\n",
    "# the vectors when the number of vectors is nonzero. However, this won’t work when the number of\n",
    "# vectors is zero.\n",
    "# 3. Put your procedures together to obtain a procedure vec select sum for the following:\n",
    "# • input: a set D, a list veclist of vectors with domain D, and an el\n"
   ]
  },
  {
   "cell_type": "code",
   "execution_count": 9,
   "metadata": {
    "collapsed": false
   },
   "outputs": [],
   "source": [
    "def vec_select(list_of_vecs,element_of_domain):\n",
    "    return [item for item in list_of_vecs if list_of_vecs[element_of_domain]==0]\n",
    "\n",
    "    \n",
    "    "
   ]
  },
  {
   "cell_type": "code",
   "execution_count": 19,
   "metadata": {
    "collapsed": false
   },
   "outputs": [
    {
     "name": "stdout",
     "output_type": "stream",
     "text": [
      " yes\n"
     ]
    },
    {
     "data": {
      "text/plain": [
       "[]"
      ]
     },
     "execution_count": 19,
     "metadata": {},
     "output_type": "execute_result"
    }
   ],
   "source": [
    "vec_list = [[1,2],[2,3],[3,4],[2,1],[0,0],[0,1],[1,0]]\n",
    "if vec_list[4][1] == 0 :\n",
    "    print ' yes'\n",
    "vec_select(vec_list,1)"
   ]
  },
  {
   "cell_type": "code",
   "execution_count": null,
   "metadata": {
    "collapsed": true
   },
   "outputs": [],
   "source": []
  }
 ],
 "metadata": {
  "kernelspec": {
   "display_name": "Python 2",
   "language": "python",
   "name": "python2"
  },
  "language_info": {
   "codemirror_mode": {
    "name": "ipython",
    "version": 2
   },
   "file_extension": ".py",
   "mimetype": "text/x-python",
   "name": "python",
   "nbconvert_exporter": "python",
   "pygments_lexer": "ipython2",
   "version": "2.7.10"
  }
 },
 "nbformat": 4,
 "nbformat_minor": 0
}
