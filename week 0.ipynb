{
 "cells": [
  {
   "cell_type": "code",
   "execution_count": 5,
   "metadata": {
    "collapsed": false
   },
   "outputs": [],
   "source": [
    "#Sets\n",
    "S = {1,2,3,4,2,1}"
   ]
  },
  {
   "cell_type": "code",
   "execution_count": 2,
   "metadata": {
    "collapsed": false
   },
   "outputs": [
    {
     "data": {
      "text/plain": [
       "{1, 2, 3, 4}"
      ]
     },
     "execution_count": 2,
     "metadata": {},
     "output_type": "execute_result"
    }
   ],
   "source": [
    "#union operator vertical bar |, unique values of both sets\n",
    "{1,2,3}|{4,3,2}"
   ]
  },
  {
   "cell_type": "code",
   "execution_count": 3,
   "metadata": {
    "collapsed": false
   },
   "outputs": [
    {
     "data": {
      "text/plain": [
       "{1, 4}"
      ]
     },
     "execution_count": 3,
     "metadata": {},
     "output_type": "execute_result"
    }
   ],
   "source": [
    "#joining operator &, prints only items that are present in both sets\n",
    "{1,2,3,4,2} & {43,4,1,23,234,23,4}"
   ]
  },
  {
   "cell_type": "code",
   "execution_count": 7,
   "metadata": {
    "collapsed": false
   },
   "outputs": [
    {
     "name": "stdout",
     "output_type": "stream",
     "text": [
      "set([1, 2, 3, 4, 9594, 959])\n"
     ]
    }
   ],
   "source": [
    "#update a set using the update parameter\n",
    "S.update({959,9594})\n",
    "print S"
   ]
  },
  {
   "cell_type": "code",
   "execution_count": 8,
   "metadata": {
    "collapsed": false
   },
   "outputs": [
    {
     "ename": "NameError",
     "evalue": "global name 'x' is not defined",
     "output_type": "error",
     "traceback": [
      "\u001b[0;31m---------------------------------------------------------------------------\u001b[0m",
      "\u001b[0;31mNameError\u001b[0m                                 Traceback (most recent call last)",
      "\u001b[0;32m<ipython-input-8-c00efb0bc13a>\u001b[0m in \u001b[0;36m<module>\u001b[0;34m()\u001b[0m\n\u001b[1;32m      1\u001b[0m \u001b[0;31m#st comprehension similar to list comprehensions foolows mathematical notation\u001b[0m\u001b[0;34m\u001b[0m\u001b[0;34m\u001b[0m\u001b[0m\n\u001b[0;32m----> 2\u001b[0;31m \u001b[0mset2\u001b[0m \u001b[0;34m=\u001b[0m \u001b[0;34m{\u001b[0m\u001b[0mx\u001b[0m\u001b[0;34m+\u001b[0m\u001b[0;36m2\u001b[0m \u001b[0;32mfor\u001b[0m \u001b[0mitem\u001b[0m \u001b[0;32min\u001b[0m \u001b[0;34m{\u001b[0m\u001b[0;36m1\u001b[0m\u001b[0;34m,\u001b[0m\u001b[0;36m2\u001b[0m\u001b[0;34m,\u001b[0m\u001b[0;36m3\u001b[0m\u001b[0;34m}\u001b[0m\u001b[0;34m}\u001b[0m\u001b[0;34m\u001b[0m\u001b[0m\n\u001b[0m",
      "\u001b[0;32m<ipython-input-8-c00efb0bc13a>\u001b[0m in \u001b[0;36m<setcomp>\u001b[0;34m((item,))\u001b[0m\n\u001b[1;32m      1\u001b[0m \u001b[0;31m#st comprehension similar to list comprehensions foolows mathematical notation\u001b[0m\u001b[0;34m\u001b[0m\u001b[0;34m\u001b[0m\u001b[0m\n\u001b[0;32m----> 2\u001b[0;31m \u001b[0mset2\u001b[0m \u001b[0;34m=\u001b[0m \u001b[0;34m{\u001b[0m\u001b[0mx\u001b[0m\u001b[0;34m+\u001b[0m\u001b[0;36m2\u001b[0m \u001b[0;32mfor\u001b[0m \u001b[0mitem\u001b[0m \u001b[0;32min\u001b[0m \u001b[0;34m{\u001b[0m\u001b[0;36m1\u001b[0m\u001b[0;34m,\u001b[0m\u001b[0;36m2\u001b[0m\u001b[0;34m,\u001b[0m\u001b[0;36m3\u001b[0m\u001b[0;34m}\u001b[0m\u001b[0;34m}\u001b[0m\u001b[0;34m\u001b[0m\u001b[0m\n\u001b[0m",
      "\u001b[0;31mNameError\u001b[0m: global name 'x' is not defined"
     ]
    }
   ],
   "source": [
    "#st comprehension similar to list comprehensions foolows mathematical notation\n",
    "set2 = {x+2 for item in {1,2,3}}"
   ]
  },
  {
   "cell_type": "code",
   "execution_count": 1,
   "metadata": {
    "collapsed": false
   },
   "outputs": [
    {
     "name": "stdout",
     "output_type": "stream",
     "text": [
      "10080\n"
     ]
    }
   ],
   "source": [
    "#Task 1: Use Python to find the number of minutes in a week.\n",
    "\n",
    "minutes_in_hour =60\n",
    "hours_in_day = 24\n",
    "days_in_week = 7\n",
    "\n",
    "print minutes_in_hour *hours_in_day*days_in_week"
   ]
  },
  {
   "cell_type": "code",
   "execution_count": 3,
   "metadata": {
    "collapsed": false
   },
   "outputs": [
    {
     "name": "stdout",
     "output_type": "stream",
     "text": [
      "49038\n"
     ]
    }
   ],
   "source": [
    "#Task 2: Use Python to find the remainder of 2304811 divided by 47 without using the modulo operator %.\n",
    "#(Hint: Use //.)\n",
    "\n",
    "print 2304811 // 47"
   ]
  },
  {
   "cell_type": "code",
   "execution_count": 4,
   "metadata": {
    "collapsed": false
   },
   "outputs": [
    {
     "data": {
      "text/plain": [
       "False"
      ]
     },
     "execution_count": 4,
     "metadata": {},
     "output_type": "execute_result"
    }
   ],
   "source": [
    "#Task 3: Enter a Boolean expression to test whether the sum of 673 and 909 is divisible by 3\n",
    "\n",
    "673%3 ==0 and 909%3==0"
   ]
  },
  {
   "cell_type": "code",
   "execution_count": 7,
   "metadata": {
    "collapsed": false
   },
   "outputs": [
    {
     "data": {
      "text/plain": [
       "1"
      ]
     },
     "execution_count": 7,
     "metadata": {},
     "output_type": "execute_result"
    }
   ],
   "source": [
    "#Task 4: Assign the value -9 to x and 1/2 to y. Predict the value of the following expression, then enter it\n",
    "#to check your prediction:\n",
    "#2**(y+1/2) if x+10<0 else 2**(y-1/2)\n",
    "\n",
    "x = - 9\n",
    "y = 1/2\n",
    "2**(y+1/2) if x+10<0 else 2**(y-1/2)"
   ]
  },
  {
   "cell_type": "code",
   "execution_count": 8,
   "metadata": {
    "collapsed": false
   },
   "outputs": [
    {
     "data": {
      "text/plain": [
       "{1, 4, 9, 16, 25}"
      ]
     },
     "execution_count": 8,
     "metadata": {},
     "output_type": "execute_result"
    }
   ],
   "source": [
    "#Task 5: Write a comprehension over {1, 2, 3, 4, 5} whose value is the set consisting of the squares of the\n",
    "#first five positive integers.\n",
    "\n",
    "s = {x**2 for x in {1,2,3,4,5}}\n",
    "s"
   ]
  },
  {
   "cell_type": "code",
   "execution_count": 9,
   "metadata": {
    "collapsed": false
   },
   "outputs": [
    {
     "data": {
      "text/plain": [
       "{0, 1, 1024, 59049, 1048576}"
      ]
     },
     "execution_count": 9,
     "metadata": {},
     "output_type": "execute_result"
    }
   ],
   "source": [
    "#Task 6: Write a comprehension over {0, 1, 2, 3, 4} whose value is the set consisting of the first five powers\n",
    "#of two, starting with 20\n",
    "\n",
    "t = {(x**2)**5 for x in {0,1,2,3,4}}\n",
    "t\n"
   ]
  },
  {
   "cell_type": "code",
   "execution_count": 46,
   "metadata": {
    "collapsed": false
   },
   "outputs": [
    {
     "data": {
      "text/plain": [
       "{2, 4, 6, 7, 9, 14, 18, 21, 27}"
      ]
     },
     "execution_count": 46,
     "metadata": {},
     "output_type": "execute_result"
    }
   ],
   "source": [
    "#Task 7: The value of the previous comprehension,\n",
    "#{x*y for x in {1,2,3} for y in {2,3,4}}\n",
    "#is a seven-element set. Replace {1,2,3} and {2,3,4} with two other three-element sets so that the value\n",
    "#becomes a nine-element set.\n",
    "z = {x*y for x in {1,2,3} for y in {9,2,7} }\n",
    "z\n"
   ]
  },
  {
   "cell_type": "code",
   "execution_count": 3,
   "metadata": {
    "collapsed": false
   },
   "outputs": [
    {
     "data": {
      "text/plain": [
       "{25, 50, 100, 200, 400}"
      ]
     },
     "execution_count": 3,
     "metadata": {},
     "output_type": "execute_result"
    }
   ],
   "source": [
    "# Task 8: Replace {1,2,3} and {2,3,4} in the previous comprehension with two disjoint (i.e. non-overlapping)\n",
    "# three-element sets so that the value becomes a five-element set.\n",
    "\n",
    "z = {x*y for x in {1,2,4} for y in {100,50,25} }\n",
    "z"
   ]
  },
  {
   "cell_type": "code",
   "execution_count": 8,
   "metadata": {
    "collapsed": false
   },
   "outputs": [
    {
     "data": {
      "text/plain": [
       "{(3, 3), (4, 4)}"
      ]
     },
     "execution_count": 8,
     "metadata": {},
     "output_type": "execute_result"
    }
   ],
   "source": [
    "# Task 9: Assume that S and T are assigned sets. Without using the intersection operator &, write a comprehension\n",
    "# over S whose value is the intersection of S and T. Hint: Use a membership test in a filter at the end\n",
    "# of the comprehension.\n",
    "# Try out your comprehension with S = {1,2,3,4} and T = {3,4,5,6}.\n",
    "S = {1,2,3,4} \n",
    "T = {3,4,5,6}\n",
    "\n",
    "r = {(x,y) for x in S for y in T if x==y}\n",
    "r"
   ]
  },
  {
   "cell_type": "code",
   "execution_count": 11,
   "metadata": {
    "collapsed": false
   },
   "outputs": [
    {
     "data": {
      "text/plain": [
       "150"
      ]
     },
     "execution_count": 11,
     "metadata": {},
     "output_type": "execute_result"
    }
   ],
   "source": [
    "# Task 10: Write an expression whose value is the average of the elements of the list [20, 10, 15, 75].\n",
    "\n",
    "x = 0.0\n",
    "for count,x in enumerate([20,10,15,75]):\n",
    "    x += x\n",
    "    if count == len([20,10,15,75]):\n",
    "        x/len(x)\n",
    "x"
   ]
  },
  {
   "cell_type": "code",
   "execution_count": 14,
   "metadata": {
    "collapsed": false
   },
   "outputs": [
    {
     "data": {
      "text/plain": [
       "[('A', 1),\n",
       " ('A', 2),\n",
       " ('A', 3),\n",
       " ('B', 1),\n",
       " ('B', 2),\n",
       " ('B', 3),\n",
       " ('C', 1),\n",
       " ('C', 2),\n",
       " ('C', 3)]"
      ]
     },
     "execution_count": 14,
     "metadata": {},
     "output_type": "execute_result"
    }
   ],
   "source": [
    "# Task 11: Write a double list comprehension over the lists ['A','B','C'] and [1,2,3] whose value is the\n",
    "# list of all possible two-element lists [letter, number]. That is, the value is\n",
    "# [['A', 1], ['A', 2], ['A', 3], ['B', 1], ['B', 2],['B', 3],\n",
    "# ['C', 1], ['C', 2], ['C', 3]]\n",
    "\n",
    "r = [(x,y) for x in ['A','B','C'] for y in [1,2,3]]\n",
    "r"
   ]
  },
  {
   "cell_type": "code",
   "execution_count": null,
   "metadata": {
    "collapsed": true
   },
   "outputs": [],
   "source": [
    "# Task 12: Suppose LofL has been assigned a list whose elements are themselves lists of numbers. Write an\n",
    "# expression that evaluates to the sum of all the numbers in all the lists. The expression has the form\n",
    "# sum([sum(...\n",
    "# and includes one comprehension. Test your expression after assigning [[.25, .75, .1], [-1, 0], [4,\n",
    "# 4, 4, 4]] to LofL. Note that your expression should work for a list of any length.\n"
   ]
  }
 ],
 "metadata": {
  "kernelspec": {
   "display_name": "Python 2",
   "language": "python",
   "name": "python2"
  },
  "language_info": {
   "codemirror_mode": {
    "name": "ipython",
    "version": 2
   },
   "file_extension": ".py",
   "mimetype": "text/x-python",
   "name": "python",
   "nbconvert_exporter": "python",
   "pygments_lexer": "ipython2",
   "version": "2.7.10"
  }
 },
 "nbformat": 4,
 "nbformat_minor": 0
}
