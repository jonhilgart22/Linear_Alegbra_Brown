{
 "cells": [
  {
   "cell_type": "code",
   "execution_count": 8,
   "metadata": {
    "collapsed": false
   },
   "outputs": [
    {
     "data": {
      "text/plain": [
       "{'Lewis', 'Roger', 'Terence'}"
      ]
     },
     "execution_count": 8,
     "metadata": {},
     "output_type": "execute_result"
    }
   ],
   "source": [
    "# Task 20: Suppose dlist is a list of dictionaries and k is a key that appears in all the dictionaries in dlist.\n",
    "# Write a comprehension that evaluates to the list whose i\n",
    "# th element is the value corresponding to key k in\n",
    "# the i\n",
    "# th dictionary in dlist.\n",
    "# Test your comprehension with some data. Here are some example data.\n",
    "# dlist = [{'James':'Sean', 'director':'Terence'}, {'James':'Roger',\n",
    "# 'director':'Lewis'}, {'James':'Pierce', 'director':'Roger'}]\n",
    "# k = 'James'\n",
    "# For these data, the value corresponding to k in the first dictionary is ’Sean’, the value corresponding to k\n",
    "# in the second dictionary is ’Roger’, and the value corresponding to k in the third dictionary is ’Pierce’,\n",
    "# so the comprehension should evaluate to [’Sean’,’Roger’,’Pierce’].\n",
    "\n",
    "\n",
    "\n",
    "dlist = [{'James':'Sean', 'director':'Terence'}, {'James':'Roger', \\\n",
    "'director':'Lewis'}, {'James':'Pierce', 'director':'Roger'}]\n",
    "k = 'director'\n",
    "\n",
    "new_dict = {x[k] for x in dlist}\n",
    "\n",
    "new_dict"
   ]
  },
  {
   "cell_type": "code",
   "execution_count": 45,
   "metadata": {
    "collapsed": false
   },
   "outputs": [
    {
     "name": "stdout",
     "output_type": "stream",
     "text": [
      "['Bilbo', 'Frodo', 'Thorin', 'Bilbo']\n"
     ]
    },
    {
     "data": {
      "text/plain": [
       "['Ian', 'NOT PRESENT', 'NOT PRESENT', 'Martin']"
      ]
     },
     "execution_count": 45,
     "metadata": {},
     "output_type": "execute_result"
    }
   ],
   "source": [
    "# Task 21: Modify the comprehension in Task 20 to handle the case in which k might not appear in all the\n",
    "# dictionaries. The comprehension evaluates to the list whose i\n",
    "# th element is the value corresponding to key k\n",
    "# in the i\n",
    "# th dictionary in dlist if that dictionary contains that key, and 'NOT PRESENT' otherwise. One way\n",
    "# to solve this is to use a conditional expression. Another way is to use the .get(key, default) method of\n",
    "# dictionaries.\n",
    "# Test your comprehension with k = 'Bilbo' and k = 'Frodo' and with the following list of dictionaries:\n",
    "# dlist = [{'Bilbo':'Ian','Frodo':'Elijah'},\n",
    "# {'Bilbo':'Martin','Thorin':'Richard'}]\n",
    "# For example, with k = Frodo', the first dictionary in the list maps ’Frodo’ to ’Elijah’, and the second\n",
    "# dictionary in the list does not map ’Frodo’ to anything, so the comprehension should evaluate to\n",
    "# 16\n",
    "# [’Elijah’,’NOT PRESENT’].\n",
    "\n",
    "\n",
    "\n",
    "dlist = [{'Bilbo':'Ian','Frodo':'Elijah'}, \\\n",
    "{'Bilbo':'Martin','Thorin':'Richard'}]\n",
    "k = 'Bilbo'\n",
    "\n",
    "print [name  for x in dlist for name in x ]\n",
    "\n",
    "new_d = [x[k] if name==k else ('NOT PRESENT') for x in dlist for name in x]\n",
    "new_d"
   ]
  },
  {
   "cell_type": "code",
   "execution_count": 59,
   "metadata": {
    "collapsed": false
   },
   "outputs": [
    {
     "data": {
      "text/plain": [
       "{0: 0,\n",
       " 1: 1,\n",
       " 2: 4,\n",
       " 3: 9,\n",
       " 4: 16,\n",
       " 5: 25,\n",
       " 6: 36,\n",
       " 7: 49,\n",
       " 8: 64,\n",
       " 9: 81,\n",
       " 10: 100,\n",
       " 11: 121,\n",
       " 12: 144,\n",
       " 13: 169,\n",
       " 14: 196,\n",
       " 15: 225,\n",
       " 16: 256,\n",
       " 17: 289,\n",
       " 18: 324,\n",
       " 19: 361,\n",
       " 20: 400,\n",
       " 21: 441,\n",
       " 22: 484,\n",
       " 23: 529,\n",
       " 24: 576,\n",
       " 25: 625,\n",
       " 26: 676,\n",
       " 27: 729,\n",
       " 28: 784,\n",
       " 29: 841,\n",
       " 30: 900,\n",
       " 31: 961,\n",
       " 32: 1024,\n",
       " 33: 1089,\n",
       " 34: 1156,\n",
       " 35: 1225,\n",
       " 36: 1296,\n",
       " 37: 1369,\n",
       " 38: 1444,\n",
       " 39: 1521,\n",
       " 40: 1600,\n",
       " 41: 1681,\n",
       " 42: 1764,\n",
       " 43: 1849,\n",
       " 44: 1936,\n",
       " 45: 2025,\n",
       " 46: 2116,\n",
       " 47: 2209,\n",
       " 48: 2304,\n",
       " 49: 2401,\n",
       " 50: 2500,\n",
       " 51: 2601,\n",
       " 52: 2704,\n",
       " 53: 2809,\n",
       " 54: 2916,\n",
       " 55: 3025,\n",
       " 56: 3136,\n",
       " 57: 3249,\n",
       " 58: 3364,\n",
       " 59: 3481,\n",
       " 60: 3600,\n",
       " 61: 3721,\n",
       " 62: 3844,\n",
       " 63: 3969,\n",
       " 64: 4096,\n",
       " 65: 4225,\n",
       " 66: 4356,\n",
       " 67: 4489,\n",
       " 68: 4624,\n",
       " 69: 4761,\n",
       " 70: 4900,\n",
       " 71: 5041,\n",
       " 72: 5184,\n",
       " 73: 5329,\n",
       " 74: 5476,\n",
       " 75: 5625,\n",
       " 76: 5776,\n",
       " 77: 5929,\n",
       " 78: 6084,\n",
       " 79: 6241,\n",
       " 80: 6400,\n",
       " 81: 6561,\n",
       " 82: 6724,\n",
       " 83: 6889,\n",
       " 84: 7056,\n",
       " 85: 7225,\n",
       " 86: 7396,\n",
       " 87: 7569,\n",
       " 88: 7744,\n",
       " 89: 7921,\n",
       " 90: 8100,\n",
       " 91: 8281,\n",
       " 92: 8464,\n",
       " 93: 8649,\n",
       " 94: 8836,\n",
       " 95: 9025,\n",
       " 96: 9216,\n",
       " 97: 9409,\n",
       " 98: 9604,\n",
       " 99: 9801}"
      ]
     },
     "execution_count": 59,
     "metadata": {},
     "output_type": "execute_result"
    }
   ],
   "source": [
    "# Task 22: Using range, write a comprehension whose value is a dictionary.\n",
    "#The keys should be the integers\n",
    "# from 0 to 99 and the value corresponding to a key should be the square of the key.\n",
    "\n",
    "w = { k:k**2 for k in range(100) }\n",
    "w"
   ]
  },
  {
   "cell_type": "code",
   "execution_count": 62,
   "metadata": {
    "collapsed": false
   },
   "outputs": [
    {
     "data": {
      "text/plain": [
       "{'blue': 'blue', 'red': 'red', 'white': 'white'}"
      ]
     },
     "execution_count": 62,
     "metadata": {},
     "output_type": "execute_result"
    }
   ],
   "source": [
    "# Task 23: Assign to the variable D the set {'red','white','blue'}. \n",
    "#     Now write a comprehension that\n",
    "# evaluates to a dictionary that represents the identity function on D.\n",
    "\n",
    "D = {'red','white','blue'}\n",
    "\n",
    "r = {x:x for x in D}\n",
    "r"
   ]
  },
  {
   "cell_type": "code",
   "execution_count": 67,
   "metadata": {
    "collapsed": false
   },
   "outputs": [
    {
     "ename": "TypeError",
     "evalue": "'int' object is not iterable",
     "output_type": "error",
     "traceback": [
      "\u001b[0;31m---------------------------------------------------------------------------\u001b[0m",
      "\u001b[0;31mTypeError\u001b[0m                                 Traceback (most recent call last)",
      "\u001b[0;32m<ipython-input-67-4b49280c4df8>\u001b[0m in \u001b[0;36m<module>\u001b[0;34m()\u001b[0m\n\u001b[1;32m     24\u001b[0m \u001b[0;34m\u001b[0m\u001b[0m\n\u001b[1;32m     25\u001b[0m \u001b[0;31m#Ddict = {number:(num,num,num) for num in number}\u001b[0m\u001b[0;34m\u001b[0m\u001b[0;34m\u001b[0m\u001b[0m\n\u001b[0;32m---> 26\u001b[0;31m \u001b[0;32mprint\u001b[0m \u001b[0;34m[\u001b[0m\u001b[0mx\u001b[0m \u001b[0;32mfor\u001b[0m \u001b[0mx\u001b[0m \u001b[0;32min\u001b[0m \u001b[0mnumber\u001b[0m\u001b[0;34m]\u001b[0m\u001b[0;34m\u001b[0m\u001b[0m\n\u001b[0m",
      "\u001b[0;31mTypeError\u001b[0m: 'int' object is not iterable"
     ]
    }
   ],
   "source": [
    "# Task 24: Our system for writing numbers uses decimal notation. For example,\n",
    "#     the digits (2, 1, 5) represent\n",
    "# the number 2 × 102 + 1 · 101 + 5 · 100\n",
    "# . We say for this system that the base is 10, and that the available\n",
    "# digits are 0, 1, 2, . . . , 9.\n",
    "# In binary, the digits (1, 0, 1) represent the number 1 × 2\n",
    "# 2 + 0 · 2\n",
    "# 1 + 1 · 2\n",
    "# 0\n",
    "# . In this case, the base is 2, and\n",
    "# the available digits are 0, 1.\n",
    "# Write a dictionary comprehension using the variables base and digits that evaluates \n",
    "# to a dictionary\n",
    "# that maps each three-digit number to the three digits that represent it. For example,\n",
    "# if base = 10 then\n",
    "# digits should be the set {0,1,2,..., 9} and the comprehension should evaluate to\n",
    "# {0:(0,0,0), 1:(0,0,1), ..., 999:(9,9,9)}\n",
    "# If base = 2 then digits should be the set {0,1}, and the comprehension should evaluate to\n",
    "# {0:(0,0,0), 1:(0,0,1), 2:(0,1,0),3:(0,1,1), 4:(1,0,0), ...}\n",
    "\n",
    "base = 10\n",
    "digits = {x for x in range(base)}\n",
    "number = 301\n",
    "\n",
    "#Ddict = {number:(num,num,num) for num in number}\n",
    "print [x for x in number]\n",
    "NOT FINISHED"
   ]
  },
  {
   "cell_type": "code",
   "execution_count": 81,
   "metadata": {
    "collapsed": false
   },
   "outputs": [
    {
     "data": {
      "text/plain": [
       "{'Curly': 1200.5, 'Larry': 1000.0, 'Moe': 990}"
      ]
     },
     "execution_count": 81,
     "metadata": {},
     "output_type": "execute_result"
    }
   ],
   "source": [
    "# Task 25: Suppose id2salary is a dictionary that maps some employee IDs\n",
    "#     (a subset of the integers from\n",
    "# 0 to n − 1) to salaries. Suppose L is an n-element list whose i\n",
    "# th element is the name of employee number i.\n",
    "# Your goal is to write a comprehension whose value is a dictionary \n",
    "# mapping employee names to salaries. You\n",
    "# can assume that employee names are distinct.\n",
    "# Test your comprehension with the following data:\n",
    "# id2salary = {0:1000.0, 3:990, 1:1200.50}\n",
    "# names = ['Larry', 'Curly', '', 'Moe']\n",
    "\n",
    "id2salary ={0:1000.0, 3:990, 1:1200.50}\n",
    "namez = ['Larry', 'Curly', '', 'Moe']\n",
    "\n",
    "final = {name:id2salary[count] for count,name in enumerate(namez) if name !=''}\n",
    "final"
   ]
  },
  {
   "cell_type": "code",
   "execution_count": 85,
   "metadata": {
    "collapsed": false
   },
   "outputs": [
    {
     "data": {
      "text/plain": [
       "[2, 6, 8]"
      ]
     },
     "execution_count": 85,
     "metadata": {},
     "output_type": "execute_result"
    }
   ],
   "source": [
    "# Task 26: Define a one-line procedure nextInts(L) specified as follows:\n",
    "# • input: list L of integers\n",
    "# • output: list of integers whose i\n",
    "# th element is one more than the i\n",
    "# th element of L\n",
    "# • example: input [1, 5, 7], output [2, 6, 8].\n",
    "test = [1, 5, 7]\n",
    "\n",
    "def nextInts(L):\n",
    "    lists = [(item + 1) for item in test]\n",
    "    return lists\n",
    "\n",
    "nextInts(test)"
   ]
  },
  {
   "cell_type": "code",
   "execution_count": 86,
   "metadata": {
    "collapsed": false
   },
   "outputs": [
    {
     "data": {
      "text/plain": [
       "[1, 8, 27]"
      ]
     },
     "execution_count": 86,
     "metadata": {},
     "output_type": "execute_result"
    }
   ],
   "source": [
    "# Task 27: Define a one-line procedure cubes(L) specified as follows:\n",
    "# • input: list L of numbers\n",
    "# • output: list of numbers whose i\n",
    "# th element is the cube of the i\n",
    "# th element of L\n",
    "# • example: input [1, 2, 3], output [1, 8, 27].\n",
    "test = [1, 2, 3]\n",
    "\n",
    "def cubes(L):\n",
    "    new_list = [i**3 for i in L]\n",
    "    return new_list\n",
    "\n",
    "cubes(test)"
   ]
  },
  {
   "cell_type": "code",
   "execution_count": 91,
   "metadata": {
    "collapsed": false
   },
   "outputs": [
    {
     "name": "stdout",
     "output_type": "stream",
     "text": [
      "['B', 'C', 'A']\n"
     ]
    }
   ],
   "source": [
    "# Task 28: Define a one-line procedure dict2list(dct,keylist) with this spec:\n",
    "# • input: dictionary dct, list keylist consisting of the keys of dct\n",
    "# • output: list L such that L[i] = dct[keylist[i]] for i = 0, 1, 2, . . . , len(keylist) − 1\n",
    "# • example: input dct={'a':'A', 'b':'B', 'c':'C'} and keylist=['b','c','a'],\n",
    "# output ['B', 'C', 'A']\n",
    "dct={'a':'A', 'b':'B', 'c':'C'}\n",
    "keylist=['b','c','a']\n",
    "\n",
    "def dict2list(dct,keylist):\n",
    "    ddict = [dct[k] for k in keylist]\n",
    "    return ddict\n",
    "dict2list(dct,keylist)\n",
    "\n",
    "print [dct[k] for k in keylist]"
   ]
  },
  {
   "cell_type": "code",
   "execution_count": null,
   "metadata": {
    "collapsed": true
   },
   "outputs": [],
   "source": [
    "# Task 29: Define a one-line procedure list2dict(L, keylist) specified as follows:\n",
    "# • input: list L, list keylist of immutable items\n",
    "# • output: dictionary that maps keylist[i] to L[i] for i = 0, 1, 2, . . . , len(L) − 1\n",
    "# • example: input L=[’A’,’B’,’C’] and keylist=[’a’,’b’,’c’],\n",
    "# output {'a':'A', 'b':'B', 'c':'C'}\n",
    "# Hint: Use a comprehension that iterates over a zip or a range.\n",
    "\n"
   ]
  }
 ],
 "metadata": {
  "kernelspec": {
   "display_name": "Python 2",
   "language": "python",
   "name": "python2"
  },
  "language_info": {
   "codemirror_mode": {
    "name": "ipython",
    "version": 2
   },
   "file_extension": ".py",
   "mimetype": "text/x-python",
   "name": "python",
   "nbconvert_exporter": "python",
   "pygments_lexer": "ipython2",
   "version": "2.7.11"
  }
 },
 "nbformat": 4,
 "nbformat_minor": 0
}
